{
 "cells": [
  {
   "cell_type": "code",
   "execution_count": 8,
   "metadata": {},
   "outputs": [],
   "source": [
    "# to rename an existing file, import the os module \n",
    "import os \n",
    "\n",
    "\n",
    "# can also give path if running from somewhere else in system\n",
    "os.rename(\"/Users/savannahwashburn/Desktop/Assn_Washburn/colors.txt\", \"/Users/savannahwashburn/Desktop/Assn_Washburn/random.txt\")\n",
    "\n",
    "# can also rename and move file in one step \n",
    "os.rename(\"/Users/savannahwashburn/Desktop/Assn_Washburn/random.txt\", \"/Users/savannahwashburn/Desktop/Programming_for_Biologists/colors.txt\")\n"
   ]
  },
  {
   "cell_type": "code",
   "execution_count": 12,
   "metadata": {},
   "outputs": [],
   "source": [
    "# os.rename also works on folders \n",
    "os.rename(\"/Users/savannahwashburn/Desktop/Programming_for_Biologists/old_folder\", \"/Users/savannahwashburn/Desktop/Programming_for_Biologists/new_folder\")\n"
   ]
  },
  {
   "cell_type": "code",
   "execution_count": 13,
   "metadata": {},
   "outputs": [],
   "source": [
    "# move a file into a folder that does not exist, get an error message \n",
    "# use mkdir function \n",
    "os.mkdir(\"new\")\n",
    "\n",
    "# can use os.mkdirs function to make many directories in one step "
   ]
  },
  {
   "cell_type": "code",
   "execution_count": 18,
   "metadata": {},
   "outputs": [
    {
     "data": {
      "text/plain": [
       "'/Users/savannahwashburn/Desktop/Programming_for_Biologists/colors_new.txt'"
      ]
     },
     "execution_count": 18,
     "metadata": {},
     "output_type": "execute_result"
    }
   ],
   "source": [
    "# use shutil to copy a file or folder \n",
    "import shutil\n",
    "shutil.copy(\"/Users/savannahwashburn/Desktop/Programming_for_Biologists/colors_copy.txt\", \"/Users/savannahwashburn/Desktop/Programming_for_Biologists/colors_new.txt\")\n",
    "\n"
   ]
  },
  {
   "cell_type": "code",
   "execution_count": 19,
   "metadata": {},
   "outputs": [
    {
     "data": {
      "text/plain": [
       "'/Users/savannahwashburn/Desktop/Programming_for_Biologists/copy_folder'"
      ]
     },
     "execution_count": 19,
     "metadata": {},
     "output_type": "execute_result"
    }
   ],
   "source": [
    "# use shutil.copytree to copy a folder \n",
    "shutil.copytree(\"/Users/savannahwashburn/Desktop/Programming_for_Biologists/new_folder_copy\", \"/Users/savannahwashburn/Desktop/Programming_for_Biologists/copy_folder\")"
   ]
  },
  {
   "cell_type": "code",
   "execution_count": 20,
   "metadata": {},
   "outputs": [
    {
     "name": "stdout",
     "output_type": "stream",
     "text": [
      "The file exists\n"
     ]
    }
   ],
   "source": [
    "# use os.path.exists to see if a file or folder exists\n",
    "if os.path.exists(\"/Users/savannahwashburn/Desktop/Programming_for_Biologists/colors_new.txt\"):\n",
    "    print(\"The file exists\")\n"
   ]
  },
  {
   "cell_type": "code",
   "execution_count": 22,
   "metadata": {},
   "outputs": [],
   "source": [
    "# use os.remove to delete a single file \n",
    "os.remove(\"/Users/savannahwashburn/Desktop/Programming_for_Biologists/unwanted_file.txt\")"
   ]
  },
  {
   "cell_type": "code",
   "execution_count": 23,
   "metadata": {},
   "outputs": [],
   "source": [
    "# to delete an empty folder use os.rmdir\n",
    "os.rmdir(\"/Users/savannahwashburn/Desktop/Programming_for_Biologists/copy_folder\")"
   ]
  },
  {
   "cell_type": "code",
   "execution_count": 24,
   "metadata": {},
   "outputs": [],
   "source": [
    "# to delete a folder adn all of the files in it, use shutil.rmtree \n",
    "shutil.rmtree(\"/Users/savannahwashburn/Desktop/Programming_for_Biologists/new_folder_copy\")"
   ]
  },
  {
   "cell_type": "code",
   "execution_count": 25,
   "metadata": {},
   "outputs": [
    {
     "name": "stdout",
     "output_type": "stream",
     "text": [
      "one file name is P4B_CH03.ipynb\n",
      "one file name is Untitled1.ipynb\n",
      "one file name is .DS_Store\n",
      "one file name is P4B_CH02.ipynb\n",
      "one file name is Untitled.ipynb\n",
      "one file name is P4B_Ch04.ipynb\n",
      "one file name is new\n",
      "one file name is .ipynb_checkpoints\n"
     ]
    }
   ],
   "source": [
    "# use os.listdir to look at a list of files and folders \n",
    "for file_name in os.listdir(\".\"): \n",
    "    print(\"one file name is \" + file_name)"
   ]
  },
  {
   "cell_type": "code",
   "execution_count": 27,
   "metadata": {},
   "outputs": [
    {
     "name": "stdout",
     "output_type": "stream",
     "text": [
      "one file name is new_folder\n",
      "one file name is cat_seqs.py\n",
      "one file name is bio_project\n",
      "one file name is .DS_Store\n",
      "one file name is copy.fasta\n",
      "one file name is cat_seqs.pbs\n",
      "one file name is colors_new.txt\n",
      "one file name is watermelon_files\n",
      "one file name is colors.txt\n",
      "one file name is watermelon_files.tar\n",
      "one file name is seqtk\n",
      "one file name is histories_from_class\n",
      "one file name is antoher_copy.fasta\n",
      "one file name is parse_shaver.py\n",
      "one file name is hello_word.py\n",
      "one file name is unwanted_file\n",
      "one file name is example_files\n"
     ]
    }
   ],
   "source": [
    "# to list the contents of a different fold, give path as argument\n",
    "for file_name in os.listdir(\"/Users/savannahwashburn/Desktop/Programming_for_Biologists\"):\n",
    "    print('one file name is ' + file_name)\n"
   ]
  },
  {
   "cell_type": "code",
   "execution_count": 38,
   "metadata": {},
   "outputs": [
    {
     "data": {
      "text/plain": [
       "0"
      ]
     },
     "execution_count": 38,
     "metadata": {},
     "output_type": "execute_result"
    }
   ],
   "source": [
    "# use subprocess to run an external program \n",
    "import subprocess \n",
    "subprocess.call(\"/bin/date\")"
   ]
  },
  {
   "cell_type": "code",
   "execution_count": 39,
   "metadata": {},
   "outputs": [
    {
     "data": {
      "text/plain": [
       "0"
      ]
     },
     "execution_count": 39,
     "metadata": {},
     "output_type": "execute_result"
    }
   ],
   "source": [
    "# set shell argument to true to supply command-line options \n",
    "subprocess.call(\"/bin/date +%B\", shell=True)"
   ]
  },
  {
   "cell_type": "code",
   "execution_count": 75,
   "metadata": {},
   "outputs": [
    {
     "name": "stdout",
     "output_type": "stream",
     "text": [
      "b'March\\n'\n"
     ]
    }
   ],
   "source": [
    "# run program then store output in variable \n",
    "current_month = subprocess.check_output(\"/bin/date +%B\", shell=True)\n",
    "print(current_month)\n"
   ]
  },
  {
   "cell_type": "code",
   "execution_count": 76,
   "metadata": {},
   "outputs": [
    {
     "name": "stdout",
     "output_type": "stream",
     "text": [
      "['/Users/savannahwashburn/opt/anaconda3/lib/python3.7/site-packages/ipykernel_launcher.py', '-f', '/Users/savannahwashburn/Library/Jupyter/runtime/kernel-22556380-ad75-428e-924b-a36d74569290.json']\n"
     ]
    }
   ],
   "source": [
    "# use input function to get interactive input from teh user in our progra\n",
    "import sys \n",
    "print(sys.argv)"
   ]
  },
  {
   "cell_type": "code",
   "execution_count": null,
   "metadata": {},
   "outputs": [],
   "source": []
  }
 ],
 "metadata": {
  "kernelspec": {
   "display_name": "Python 3",
   "language": "python",
   "name": "python3"
  },
  "language_info": {
   "codemirror_mode": {
    "name": "ipython",
    "version": 3
   },
   "file_extension": ".py",
   "mimetype": "text/x-python",
   "name": "python",
   "nbconvert_exporter": "python",
   "pygments_lexer": "ipython3",
   "version": "3.7.4"
  }
 },
 "nbformat": 4,
 "nbformat_minor": 2
}

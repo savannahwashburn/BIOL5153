{
 "cells": [
  {
   "cell_type": "code",
   "execution_count": 1,
   "metadata": {},
   "outputs": [
    {
     "name": "stdout",
     "output_type": "stream",
     "text": [
      "AT content is 0.5\n"
     ]
    }
   ],
   "source": [
    "# can create a function \n",
    "def get_at_content(dna):\n",
    "    length = len(dna)\n",
    "    a_count = dna.count(\"A\")\n",
    "    t_count = dna.count(\"T\")\n",
    "    at_content = (a_count + t_count)/ length\n",
    "    return at_content \n",
    "# refer to running a function as calling it \n",
    "# the code above won't do anything becuase we have not gotten python to execute it\n",
    "# will not be executed until we call the function like this \n",
    "get_at_content(\"ATCACTGGACCA\")\n",
    "# in order to use teh function to do something useful, need to store result as a variable or use it directly \n",
    "\n",
    "# store as a variable: \n",
    "at_content = get_at_content(\"ATCACTGGACCA\")\n",
    "# directly example: \n",
    "print(\"AT content is \" + str(get_at_content(\"ATCACTGGACCA\")))"
   ]
  },
  {
   "cell_type": "code",
   "execution_count": 2,
   "metadata": {},
   "outputs": [
    {
     "ename": "NameError",
     "evalue": "name 'a_count' is not defined",
     "output_type": "error",
     "traceback": [
      "\u001b[0;31m---------------------------------------------------------------------------\u001b[0m",
      "\u001b[0;31mNameError\u001b[0m                                 Traceback (most recent call last)",
      "\u001b[0;32m<ipython-input-2-b6d90378a8d8>\u001b[0m in \u001b[0;36m<module>\u001b[0;34m\u001b[0m\n\u001b[1;32m      6\u001b[0m     \u001b[0mat_content\u001b[0m \u001b[0;34m=\u001b[0m \u001b[0;34m(\u001b[0m\u001b[0ma_count\u001b[0m \u001b[0;34m+\u001b[0m \u001b[0mt_count\u001b[0m\u001b[0;34m)\u001b[0m \u001b[0;34m/\u001b[0m \u001b[0mlength\u001b[0m\u001b[0;34m\u001b[0m\u001b[0;34m\u001b[0m\u001b[0m\n\u001b[1;32m      7\u001b[0m     \u001b[0;32mreturn\u001b[0m \u001b[0mat_content\u001b[0m\u001b[0;34m\u001b[0m\u001b[0;34m\u001b[0m\u001b[0m\n\u001b[0;32m----> 8\u001b[0;31m \u001b[0mprint\u001b[0m\u001b[0;34m(\u001b[0m\u001b[0ma_count\u001b[0m\u001b[0;34m)\u001b[0m\u001b[0;34m\u001b[0m\u001b[0;34m\u001b[0m\u001b[0m\n\u001b[0m",
      "\u001b[0;31mNameError\u001b[0m: name 'a_count' is not defined"
     ]
    }
   ],
   "source": [
    "# get error if we try to use a variable that is created inside the function from outside\n",
    "def get_at_content(dna):\n",
    "    length = len(dna)\n",
    "    a_count = dna.count(\"A\")\n",
    "    t_count = dna.count(\"T\")\n",
    "    at_content = (a_count + t_count) / length \n",
    "    return at_content \n",
    "print(a_count)"
   ]
  },
  {
   "cell_type": "code",
   "execution_count": 4,
   "metadata": {},
   "outputs": [
    {
     "name": "stdout",
     "output_type": "stream",
     "text": [
      "0.47368421052631576\n",
      "0.5294117647058824\n",
      "0.0\n"
     ]
    }
   ],
   "source": [
    "# improving our function and see how it works \n",
    "def get_at_content(dna): \n",
    "    length = len(dna)\n",
    "    a_count = dna.count(\"A\")\n",
    "    t_count = dna.count(\"T\")\n",
    "    at_content = (a_count + t_count) / length \n",
    "    return at_content\n",
    "\n",
    "my_at_content = get_at_content(\"ATGCGCATCGATCGAATCG\")\n",
    "print(str(my_at_content))\n",
    "print(get_at_content(\"ATGCATGCAACTGTAGC\"))\n",
    "print(get_at_content(\"aactgtagctagcagcgta\"))"
   ]
  },
  {
   "cell_type": "code",
   "execution_count": 5,
   "metadata": {},
   "outputs": [
    {
     "name": "stdout",
     "output_type": "stream",
     "text": [
      "0.47\n",
      "0.53\n",
      "0.53\n"
     ]
    }
   ],
   "source": [
    "# can use round and upper to fix problem \n",
    "def get_at_content(dna): \n",
    "    length = len(dna)\n",
    "    a_count = dna.upper().count(\"A\")\n",
    "    t_count = dna.upper().count(\"T\")\n",
    "    at_content = (a_count + t_count) / length \n",
    "    return round(at_content, 2)\n",
    "\n",
    "my_at_content = get_at_content(\"ATGCGCATCGATCGAATCG\")\n",
    "print(str(my_at_content))\n",
    "print(get_at_content(\"ATGCATGCAACTGTAGC\"))\n",
    "print(get_at_content(\"aactgtagctagcagcgta\"))"
   ]
  },
  {
   "cell_type": "code",
   "execution_count": 6,
   "metadata": {},
   "outputs": [
    {
     "name": "stdout",
     "output_type": "stream",
     "text": [
      "0.5\n",
      "0.53\n",
      "0.529\n"
     ]
    }
   ],
   "source": [
    "# might want more than 2 decimals \n",
    "def get_at_content(dna, sig_figs):\n",
    "    length = len(dna)\n",
    "    a_count = dna.upper().count('A')\n",
    "    t_count = dna.upper().count('T')\n",
    "    at_content = (a_count + t_count) / length\n",
    "    return round(at_content, sig_figs)\n",
    "\n",
    "test_dna = \"ATGCATGCAACTGTAGC\"\n",
    "print(get_at_content(test_dna, 1))\n",
    "print(get_at_content(test_dna, 2))\n",
    "print(get_at_content(test_dna, 3))"
   ]
  },
  {
   "cell_type": "code",
   "execution_count": 7,
   "metadata": {},
   "outputs": [],
   "source": [
    "# encapsulation is dividing up a complex program into little bits to work on independently \n",
    "# a function does not have to take an argument \n",
    "def get_a_number(): \n",
    "    return 42\n",
    "\n",
    "# these functions are not very useful "
   ]
  },
  {
   "cell_type": "code",
   "execution_count": 8,
   "metadata": {},
   "outputs": [],
   "source": [
    "# can write the get_at_content that does not require any arguments \n",
    "def get_at_content(): \n",
    "    dna = \"ACTGATGCTAGCTA\"\n",
    "    length = len(dna)\n",
    "    a_count = dna.upper().count(\"A\")\n",
    "    t_count = dna.upper().count(\"T\")\n",
    "    at_content = (a_count + t_count) / length \n",
    "    return round(at_content, 2)"
   ]
  },
  {
   "cell_type": "code",
   "execution_count": 9,
   "metadata": {},
   "outputs": [
    {
     "name": "stdout",
     "output_type": "stream",
     "text": [
      "0.5\n"
     ]
    }
   ],
   "source": [
    "# this is not very useful because now both of these are no longer independent \n",
    "def get_at_content(): \n",
    "    length = len(dna)\n",
    "    a_count = dna.upper().count(\"A\")\n",
    "    t_count = dna.upper().count(\"T\")\n",
    "    at_countent = (a_count + t_count) / length \n",
    "    return round(at_content, 2)\n",
    "\n",
    "dna = \"ACTGATCGATCG\"\n",
    "print(get_at_content())"
   ]
  },
  {
   "cell_type": "code",
   "execution_count": 11,
   "metadata": {},
   "outputs": [],
   "source": [
    "# this function prints the at content to the screen \n",
    "def print_at_content(dna): \n",
    "    length = len(dna)\n",
    "    a_count = dna.upper().count(\"A\")\n",
    "    t_count = dna.upper().count(\"T\")\n",
    "    at_content = (a_count + t_count) / length \n",
    "    print(str(round(at_content, 2)))\n",
    "    \n",
    "# need a function that will calculate adn pirnt the at content in two separate jobs \n"
   ]
  },
  {
   "cell_type": "code",
   "execution_count": 12,
   "metadata": {},
   "outputs": [
    {
     "ename": "TypeError",
     "evalue": "get_at_content() got an unexpected keyword argument 'dna'",
     "output_type": "error",
     "traceback": [
      "\u001b[0;31m---------------------------------------------------------------------------\u001b[0m",
      "\u001b[0;31mTypeError\u001b[0m                                 Traceback (most recent call last)",
      "\u001b[0;32m<ipython-input-12-f98319aeea72>\u001b[0m in \u001b[0;36m<module>\u001b[0;34m\u001b[0m\n\u001b[1;32m      1\u001b[0m \u001b[0;31m# keyword function\u001b[0m\u001b[0;34m\u001b[0m\u001b[0;34m\u001b[0m\u001b[0;34m\u001b[0m\u001b[0m\n\u001b[1;32m      2\u001b[0m \u001b[0;31m# both of these behave in the same way\u001b[0m\u001b[0;34m\u001b[0m\u001b[0;34m\u001b[0m\u001b[0;34m\u001b[0m\u001b[0m\n\u001b[0;32m----> 3\u001b[0;31m \u001b[0mget_at_content\u001b[0m\u001b[0;34m(\u001b[0m\u001b[0mdna\u001b[0m\u001b[0;34m=\u001b[0m\u001b[0;34m\"ATCGTGACTCG\"\u001b[0m\u001b[0;34m,\u001b[0m \u001b[0msig_figs\u001b[0m\u001b[0;34m=\u001b[0m\u001b[0;36m2\u001b[0m\u001b[0;34m)\u001b[0m\u001b[0;34m\u001b[0m\u001b[0;34m\u001b[0m\u001b[0m\n\u001b[0m\u001b[1;32m      4\u001b[0m \u001b[0mget_at_content\u001b[0m\u001b[0;34m(\u001b[0m\u001b[0msig_fings\u001b[0m\u001b[0;34m=\u001b[0m\u001b[0;36m2\u001b[0m\u001b[0;34m,\u001b[0m \u001b[0mdna\u001b[0m\u001b[0;34m=\u001b[0m\u001b[0;34m\"ATCGTGACTCG\"\u001b[0m\u001b[0;34m)\u001b[0m\u001b[0;34m\u001b[0m\u001b[0;34m\u001b[0m\u001b[0m\n\u001b[1;32m      5\u001b[0m \u001b[0;34m\u001b[0m\u001b[0m\n",
      "\u001b[0;31mTypeError\u001b[0m: get_at_content() got an unexpected keyword argument 'dna'"
     ]
    }
   ],
   "source": [
    "# keyword function \n",
    "# both of these behave in the same way \n",
    "get_at_content(dna=\"ATCGTGACTCG\", sig_figs=2)\n",
    "get_at_content(sig_fings=2, dna=\"ATCGTGACTCG\")\n",
    "\n",
    "# these are also all teh same \n",
    "get_at_content(\"ATCGTGACTCG\", 2)\n",
    "get_at_content(dna=\"ATCGTGACTCG\", sig_figs=2)\n",
    "get_at_content(\"ATCGTGACTCG\", sig_figs=2)"
   ]
  },
  {
   "cell_type": "code",
   "execution_count": 14,
   "metadata": {},
   "outputs": [
    {
     "data": {
      "text/plain": [
       "0.4545"
      ]
     },
     "execution_count": 14,
     "metadata": {},
     "output_type": "execute_result"
    }
   ],
   "source": [
    "# function where default has sig figs of 2 \n",
    "def get_at_content(dna, sig_figs=2):\n",
    "    length = len(dna)\n",
    "    a_count = dna.upper().count('A')\n",
    "    t_count = dna.upper().count('T')\n",
    "    at_content = (a_count + t_count) / length\n",
    "    return round(at_content, sig_figs)\n",
    "\n",
    "get_at_content(\"ATCGTGACTCG\")\n",
    "get_at_content(\"ATCGTGACTCG\", 3)\n",
    "get_at_content(\"ATCGTGACTCG\", sig_figs=4)"
   ]
  },
  {
   "cell_type": "code",
   "execution_count": 15,
   "metadata": {},
   "outputs": [
    {
     "data": {
      "text/plain": [
       "0.4545"
      ]
     },
     "execution_count": 15,
     "metadata": {},
     "output_type": "execute_result"
    }
   ],
   "source": []
  },
  {
   "cell_type": "code",
   "execution_count": 3,
   "metadata": {},
   "outputs": [],
   "source": [
    "# use assert for getting results you expect to get \n",
    "# if it is false, will get an AssertionError \n",
    "def get_at_content(dna, sig_figs=2):\n",
    "    assert get_at_content(\"ATCG\") == 0.5"
   ]
  },
  {
   "cell_type": "code",
   "execution_count": 7,
   "metadata": {},
   "outputs": [
    {
     "ename": "AssertionError",
     "evalue": "",
     "output_type": "error",
     "traceback": [
      "\u001b[0;31m---------------------------------------------------------------------------\u001b[0m",
      "\u001b[0;31mAssertionError\u001b[0m                            Traceback (most recent call last)",
      "\u001b[0;32m<ipython-input-7-da624f9c08c4>\u001b[0m in \u001b[0;36m<module>\u001b[0;34m\u001b[0m\n\u001b[1;32m      5\u001b[0m     \u001b[0mat_content\u001b[0m \u001b[0;34m=\u001b[0m \u001b[0;34m(\u001b[0m\u001b[0ma_count\u001b[0m \u001b[0;34m+\u001b[0m \u001b[0mt_count\u001b[0m\u001b[0;34m)\u001b[0m \u001b[0;34m/\u001b[0m \u001b[0mlength\u001b[0m\u001b[0;34m\u001b[0m\u001b[0;34m\u001b[0m\u001b[0m\n\u001b[1;32m      6\u001b[0m     \u001b[0;32mreturn\u001b[0m \u001b[0mround\u001b[0m\u001b[0;34m(\u001b[0m\u001b[0mat_content\u001b[0m\u001b[0;34m,\u001b[0m \u001b[0msig_figs\u001b[0m\u001b[0;34m)\u001b[0m\u001b[0;34m\u001b[0m\u001b[0;34m\u001b[0m\u001b[0m\n\u001b[0;32m----> 7\u001b[0;31m \u001b[0;32massert\u001b[0m \u001b[0mget_at_content\u001b[0m\u001b[0;34m(\u001b[0m\u001b[0;34m\"ATCCNNNNNNNNNN\"\u001b[0m\u001b[0;34m)\u001b[0m \u001b[0;34m==\u001b[0m \u001b[0;36m0.5\u001b[0m\u001b[0;34m\u001b[0m\u001b[0;34m\u001b[0m\u001b[0m\n\u001b[0m",
      "\u001b[0;31mAssertionError\u001b[0m: "
     ]
    }
   ],
   "source": [
    "def get_at_content(dna, sig_figs=2):\n",
    "    length = len(dna)\n",
    "    a_count = dna.upper().count('A')\n",
    "    t_count = dna.upper().count('T')\n",
    "    at_content = (a_count + t_count) / length\n",
    "    return round(at_content, sig_figs)\n",
    "assert get_at_content(\"ATCCNNNNNNNNNN\") == 0.5"
   ]
  },
  {
   "cell_type": "code",
   "execution_count": 6,
   "metadata": {},
   "outputs": [],
   "source": [
    "def get_at_content(dna, sig_figs=2): \n",
    "    dna = dna.replace(\"N\", \"\")\n",
    "    length = len(dna)\n",
    "    a_count = dna.upper().count(\"A\")\n",
    "    t_count = dna.upper().count(\"T\")\n",
    "    at_content = (a_count + t_count) / length \n",
    "    return round(at_content, sig_figs)\n",
    "\n",
    "assert get_at_content(\"ATGCNNNNNNNNNN\") == 0.5"
   ]
  },
  {
   "cell_type": "code",
   "execution_count": null,
   "metadata": {},
   "outputs": [],
   "source": []
  }
 ],
 "metadata": {
  "kernelspec": {
   "display_name": "Python 3",
   "language": "python",
   "name": "python3"
  },
  "language_info": {
   "codemirror_mode": {
    "name": "ipython",
    "version": 3
   },
   "file_extension": ".py",
   "mimetype": "text/x-python",
   "name": "python",
   "nbconvert_exporter": "python",
   "pygments_lexer": "ipython3",
   "version": "3.7.4"
  }
 },
 "nbformat": 4,
 "nbformat_minor": 2
}
